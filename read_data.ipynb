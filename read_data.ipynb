{
 "cells": [
  {
   "cell_type": "code",
   "execution_count": null,
   "metadata": {},
   "outputs": [],
   "source": [
    "import os\n",
    "import pandas as pd\n",
    "import numpy as np"
   ]
  },
  {
   "cell_type": "code",
   "execution_count": null,
   "metadata": {},
   "outputs": [],
   "source": [
    "def read_data(data_dir='./data/aclImdb'):\n",
    "    \"\"\"\n",
    "    Read in raw files \n",
    "    \"\"\"\n",
    "    data = []\n",
    "    labels = []\n",
    "\n",
    "    for data_type in ['train','test']:\n",
    "        for sentiment in ['pos','neg']:\n",
    "            path = os.path.join(data_dir,data_type,sentiment,'*.txt')\n",
    "            files = glob.glob(path)\n",
    "            for f in files:\n",
    "                with open(f,encoding=\"utf8\") as file:\n",
    "                    review = file.read()\n",
    "                    review = BeautifulSoup(review, \"html.parser\").get_text()\n",
    "                    data.append(review)\n",
    "                    labels.append('positive' if sentiment == 'pos' else 'negative')\n",
    "            assert len(data) == len(labels),f\"{data_type} and {sentiment} does not match labels size\"\n",
    "    return data, labels\n",
    "\n",
    "data, labels = read_data(data_dir='./data/aclImdb')\n",
    "\n",
    "data, labels  = shuffle(data,labels)\n",
    "\n",
    "pd.DataFrame(data).to_csv('./processed_data/processed_data.csv')\n",
    "pd.DataFrame(labels).to_csv('./processed_data/processed_labels.csv')"
   ]
  }
 ],
 "metadata": {
  "kernelspec": {
   "display_name": "Python 3",
   "language": "python",
   "name": "python3"
  },
  "language_info": {
   "codemirror_mode": {
    "name": "ipython",
    "version": 3
   },
   "file_extension": ".py",
   "mimetype": "text/x-python",
   "name": "python",
   "nbconvert_exporter": "python",
   "pygments_lexer": "ipython3",
   "version": "3.6.5"
  },
  "toc": {
   "base_numbering": 1,
   "nav_menu": {},
   "number_sections": true,
   "sideBar": true,
   "skip_h1_title": false,
   "title_cell": "Table of Contents",
   "title_sidebar": "Contents",
   "toc_cell": false,
   "toc_position": {},
   "toc_section_display": true,
   "toc_window_display": false
  }
 },
 "nbformat": 4,
 "nbformat_minor": 2
}
